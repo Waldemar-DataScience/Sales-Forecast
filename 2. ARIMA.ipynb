{
 "cells": [
  {
   "cell_type": "markdown",
   "metadata": {},
   "source": [
    "# Statistical Methods to Time Series prediction\n",
    "### Introduction:\n",
    "\n",
    "The original data was aggregated - the sales from all stores was sum up for each index and all other data  was removed. This is to simplify. The one of most frequent index was taken. The aggregated sales data are stored in the *.csv* file\n",
    "\n",
    "The data wad divided to two sets: from 2013-01.02 up to 2017-07-31 was testing set. The model should predict sales for 15 days forward and I compared it with the test set."
   ]
  },
  {
   "cell_type": "markdown",
   "metadata": {},
   "source": [
    "## Data Preparation\n",
    "\n",
    "Spliting data to train and tes sets and setting date as TimeIndex."
   ]
  },
  {
   "cell_type": "code",
   "execution_count": 1,
   "metadata": {},
   "outputs": [],
   "source": [
    "import pandas as pd\n",
    "import numpy as np"
   ]
  },
  {
   "cell_type": "code",
   "execution_count": 2,
   "metadata": {},
   "outputs": [],
   "source": [
    "df = pd.read_csv(\"one_item_205387.csv\",sep=\";\",decimal=\",\")\n",
    "df = df.drop(0,axis=0)"
   ]
  },
  {
   "cell_type": "code",
   "execution_count": 3,
   "metadata": {},
   "outputs": [
    {
     "data": {
      "text/html": [
       "<div>\n",
       "<style scoped>\n",
       "    .dataframe tbody tr th:only-of-type {\n",
       "        vertical-align: middle;\n",
       "    }\n",
       "\n",
       "    .dataframe tbody tr th {\n",
       "        vertical-align: top;\n",
       "    }\n",
       "\n",
       "    .dataframe thead th {\n",
       "        text-align: right;\n",
       "    }\n",
       "</style>\n",
       "<table border=\"1\" class=\"dataframe\">\n",
       "  <thead>\n",
       "    <tr style=\"text-align: right;\">\n",
       "      <th></th>\n",
       "      <th>date</th>\n",
       "      <th>unit_sales</th>\n",
       "    </tr>\n",
       "  </thead>\n",
       "  <tbody>\n",
       "    <tr>\n",
       "      <th>1</th>\n",
       "      <td>2013-01-02</td>\n",
       "      <td>362.0</td>\n",
       "    </tr>\n",
       "    <tr>\n",
       "      <th>2</th>\n",
       "      <td>2013-01-03</td>\n",
       "      <td>358.0</td>\n",
       "    </tr>\n",
       "    <tr>\n",
       "      <th>3</th>\n",
       "      <td>2013-01-04</td>\n",
       "      <td>395.0</td>\n",
       "    </tr>\n",
       "    <tr>\n",
       "      <th>4</th>\n",
       "      <td>2013-01-05</td>\n",
       "      <td>555.0</td>\n",
       "    </tr>\n",
       "    <tr>\n",
       "      <th>5</th>\n",
       "      <td>2013-01-06</td>\n",
       "      <td>576.0</td>\n",
       "    </tr>\n",
       "    <tr>\n",
       "      <th>...</th>\n",
       "      <td>...</td>\n",
       "      <td>...</td>\n",
       "    </tr>\n",
       "    <tr>\n",
       "      <th>1679</th>\n",
       "      <td>2017-08-11</td>\n",
       "      <td>349.0</td>\n",
       "    </tr>\n",
       "    <tr>\n",
       "      <th>1680</th>\n",
       "      <td>2017-08-12</td>\n",
       "      <td>332.0</td>\n",
       "    </tr>\n",
       "    <tr>\n",
       "      <th>1681</th>\n",
       "      <td>2017-08-13</td>\n",
       "      <td>289.0</td>\n",
       "    </tr>\n",
       "    <tr>\n",
       "      <th>1682</th>\n",
       "      <td>2017-08-14</td>\n",
       "      <td>237.0</td>\n",
       "    </tr>\n",
       "    <tr>\n",
       "      <th>1683</th>\n",
       "      <td>2017-08-15</td>\n",
       "      <td>247.0</td>\n",
       "    </tr>\n",
       "  </tbody>\n",
       "</table>\n",
       "<p>1683 rows × 2 columns</p>\n",
       "</div>"
      ],
      "text/plain": [
       "            date  unit_sales\n",
       "1     2013-01-02       362.0\n",
       "2     2013-01-03       358.0\n",
       "3     2013-01-04       395.0\n",
       "4     2013-01-05       555.0\n",
       "5     2013-01-06       576.0\n",
       "...          ...         ...\n",
       "1679  2017-08-11       349.0\n",
       "1680  2017-08-12       332.0\n",
       "1681  2017-08-13       289.0\n",
       "1682  2017-08-14       237.0\n",
       "1683  2017-08-15       247.0\n",
       "\n",
       "[1683 rows x 2 columns]"
      ]
     },
     "execution_count": 3,
     "metadata": {},
     "output_type": "execute_result"
    }
   ],
   "source": [
    "df"
   ]
  },
  {
   "cell_type": "code",
   "execution_count": 4,
   "metadata": {},
   "outputs": [
    {
     "name": "stdout",
     "output_type": "stream",
     "text": [
      "<class 'pandas.core.frame.DataFrame'>\n",
      "Int64Index: 1683 entries, 1 to 1683\n",
      "Data columns (total 2 columns):\n",
      " #   Column      Non-Null Count  Dtype  \n",
      "---  ------      --------------  -----  \n",
      " 0   date        1683 non-null   object \n",
      " 1   unit_sales  1683 non-null   float64\n",
      "dtypes: float64(1), object(1)\n",
      "memory usage: 39.4+ KB\n"
     ]
    }
   ],
   "source": [
    "df.info()"
   ]
  },
  {
   "cell_type": "code",
   "execution_count": 5,
   "metadata": {},
   "outputs": [],
   "source": [
    "df[\"date\"] = pd.to_datetime(df[\"date\"])\n",
    "test = df[df.date > \"2017-07-31\"]\n",
    "train = df[df.date <= \"2017-07-31\"]\n",
    "train.set_index(\"date\",inplace=True)\n",
    "test.set_index(\"date\",inplace=True)"
   ]
  },
  {
   "cell_type": "markdown",
   "metadata": {},
   "source": [
    "### ARIMA Model\n",
    "\n",
    "I use statsmodel library. The ARIMA(6,1,6) wa used."
   ]
  },
  {
   "cell_type": "code",
   "execution_count": 6,
   "metadata": {},
   "outputs": [],
   "source": [
    "from statsmodels.tsa.arima.model import ARIMA"
   ]
  },
  {
   "cell_type": "code",
   "execution_count": 7,
   "metadata": {},
   "outputs": [],
   "source": [
    "import warnings\n",
    "warnings.filterwarnings(\"ignore\")"
   ]
  },
  {
   "cell_type": "code",
   "execution_count": 8,
   "metadata": {},
   "outputs": [
    {
     "data": {
      "text/html": [
       "<table class=\"simpletable\">\n",
       "<caption>SARIMAX Results</caption>\n",
       "<tr>\n",
       "  <th>Dep. Variable:</th>      <td>unit_sales</td>    <th>  No. Observations:  </th>   <td>1668</td>   \n",
       "</tr>\n",
       "<tr>\n",
       "  <th>Model:</th>            <td>ARIMA(6, 1, 6)</td>  <th>  Log Likelihood     </th> <td>-9520.656</td>\n",
       "</tr>\n",
       "<tr>\n",
       "  <th>Date:</th>            <td>Wed, 06 Jan 2021</td> <th>  AIC                </th> <td>19067.311</td>\n",
       "</tr>\n",
       "<tr>\n",
       "  <th>Time:</th>                <td>19:42:01</td>     <th>  BIC                </th> <td>19137.756</td>\n",
       "</tr>\n",
       "<tr>\n",
       "  <th>Sample:</th>                  <td>0</td>        <th>  HQIC               </th> <td>19093.416</td>\n",
       "</tr>\n",
       "<tr>\n",
       "  <th></th>                      <td> - 1668</td>     <th>                     </th>     <td> </td>    \n",
       "</tr>\n",
       "<tr>\n",
       "  <th>Covariance Type:</th>        <td>opg</td>       <th>                     </th>     <td> </td>    \n",
       "</tr>\n",
       "</table>\n",
       "<table class=\"simpletable\">\n",
       "<tr>\n",
       "     <td></td>       <th>coef</th>     <th>std err</th>      <th>z</th>      <th>P>|z|</th>  <th>[0.025</th>    <th>0.975]</th>  \n",
       "</tr>\n",
       "<tr>\n",
       "  <th>ar.L1</th>  <td>    0.0426</td> <td>    5.876</td> <td>    0.007</td> <td> 0.994</td> <td>  -11.474</td> <td>   11.559</td>\n",
       "</tr>\n",
       "<tr>\n",
       "  <th>ar.L2</th>  <td>   -0.6438</td> <td>    5.847</td> <td>   -0.110</td> <td> 0.912</td> <td>  -12.104</td> <td>   10.817</td>\n",
       "</tr>\n",
       "<tr>\n",
       "  <th>ar.L3</th>  <td>   -0.4443</td> <td>    9.369</td> <td>   -0.047</td> <td> 0.962</td> <td>  -18.808</td> <td>   17.920</td>\n",
       "</tr>\n",
       "<tr>\n",
       "  <th>ar.L4</th>  <td>   -0.1207</td> <td>    6.328</td> <td>   -0.019</td> <td> 0.985</td> <td>  -12.522</td> <td>   12.281</td>\n",
       "</tr>\n",
       "<tr>\n",
       "  <th>ar.L5</th>  <td>   -0.8983</td> <td>    6.762</td> <td>   -0.133</td> <td> 0.894</td> <td>  -14.151</td> <td>   12.355</td>\n",
       "</tr>\n",
       "<tr>\n",
       "  <th>ar.L6</th>  <td>    0.1937</td> <td>    1.177</td> <td>    0.165</td> <td> 0.869</td> <td>   -2.114</td> <td>    2.502</td>\n",
       "</tr>\n",
       "<tr>\n",
       "  <th>ma.L1</th>  <td>   -0.6162</td> <td>    5.878</td> <td>   -0.105</td> <td> 0.917</td> <td>  -12.137</td> <td>   10.904</td>\n",
       "</tr>\n",
       "<tr>\n",
       "  <th>ma.L2</th>  <td>    0.4653</td> <td>    9.225</td> <td>    0.050</td> <td> 0.960</td> <td>  -17.615</td> <td>   18.546</td>\n",
       "</tr>\n",
       "<tr>\n",
       "  <th>ma.L3</th>  <td>    0.0796</td> <td>   11.545</td> <td>    0.007</td> <td> 0.994</td> <td>  -22.547</td> <td>   22.707</td>\n",
       "</tr>\n",
       "<tr>\n",
       "  <th>ma.L4</th>  <td>   -0.2585</td> <td>   10.550</td> <td>   -0.025</td> <td> 0.980</td> <td>  -20.936</td> <td>   20.419</td>\n",
       "</tr>\n",
       "<tr>\n",
       "  <th>ma.L5</th>  <td>    0.6636</td> <td>    8.560</td> <td>    0.078</td> <td> 0.938</td> <td>  -16.114</td> <td>   17.441</td>\n",
       "</tr>\n",
       "<tr>\n",
       "  <th>ma.L6</th>  <td>   -0.6959</td> <td>    4.275</td> <td>   -0.163</td> <td> 0.871</td> <td>   -9.075</td> <td>    7.684</td>\n",
       "</tr>\n",
       "<tr>\n",
       "  <th>sigma2</th> <td> 5973.1019</td> <td>   90.338</td> <td>   66.119</td> <td> 0.000</td> <td> 5796.042</td> <td> 6150.162</td>\n",
       "</tr>\n",
       "</table>\n",
       "<table class=\"simpletable\">\n",
       "<tr>\n",
       "  <th>Ljung-Box (L1) (Q):</th>     <td>0.00</td> <th>  Jarque-Bera (JB):  </th> <td>25504.70</td>\n",
       "</tr>\n",
       "<tr>\n",
       "  <th>Prob(Q):</th>                <td>0.97</td> <th>  Prob(JB):          </th>   <td>0.00</td>  \n",
       "</tr>\n",
       "<tr>\n",
       "  <th>Heteroskedasticity (H):</th> <td>1.06</td> <th>  Skew:              </th>   <td>0.77</td>  \n",
       "</tr>\n",
       "<tr>\n",
       "  <th>Prob(H) (two-sided):</th>    <td>0.52</td> <th>  Kurtosis:          </th>   <td>22.10</td> \n",
       "</tr>\n",
       "</table><br/><br/>Warnings:<br/>[1] Covariance matrix calculated using the outer product of gradients (complex-step)."
      ],
      "text/plain": [
       "<class 'statsmodels.iolib.summary.Summary'>\n",
       "\"\"\"\n",
       "                               SARIMAX Results                                \n",
       "==============================================================================\n",
       "Dep. Variable:             unit_sales   No. Observations:                 1668\n",
       "Model:                 ARIMA(6, 1, 6)   Log Likelihood               -9520.656\n",
       "Date:                Wed, 06 Jan 2021   AIC                          19067.311\n",
       "Time:                        19:42:01   BIC                          19137.756\n",
       "Sample:                             0   HQIC                         19093.416\n",
       "                               - 1668                                         \n",
       "Covariance Type:                  opg                                         \n",
       "==============================================================================\n",
       "                 coef    std err          z      P>|z|      [0.025      0.975]\n",
       "------------------------------------------------------------------------------\n",
       "ar.L1          0.0426      5.876      0.007      0.994     -11.474      11.559\n",
       "ar.L2         -0.6438      5.847     -0.110      0.912     -12.104      10.817\n",
       "ar.L3         -0.4443      9.369     -0.047      0.962     -18.808      17.920\n",
       "ar.L4         -0.1207      6.328     -0.019      0.985     -12.522      12.281\n",
       "ar.L5         -0.8983      6.762     -0.133      0.894     -14.151      12.355\n",
       "ar.L6          0.1937      1.177      0.165      0.869      -2.114       2.502\n",
       "ma.L1         -0.6162      5.878     -0.105      0.917     -12.137      10.904\n",
       "ma.L2          0.4653      9.225      0.050      0.960     -17.615      18.546\n",
       "ma.L3          0.0796     11.545      0.007      0.994     -22.547      22.707\n",
       "ma.L4         -0.2585     10.550     -0.025      0.980     -20.936      20.419\n",
       "ma.L5          0.6636      8.560      0.078      0.938     -16.114      17.441\n",
       "ma.L6         -0.6959      4.275     -0.163      0.871      -9.075       7.684\n",
       "sigma2      5973.1019     90.338     66.119      0.000    5796.042    6150.162\n",
       "===================================================================================\n",
       "Ljung-Box (L1) (Q):                   0.00   Jarque-Bera (JB):             25504.70\n",
       "Prob(Q):                              0.97   Prob(JB):                         0.00\n",
       "Heteroskedasticity (H):               1.06   Skew:                             0.77\n",
       "Prob(H) (two-sided):                  0.52   Kurtosis:                        22.10\n",
       "===================================================================================\n",
       "\n",
       "Warnings:\n",
       "[1] Covariance matrix calculated using the outer product of gradients (complex-step).\n",
       "\"\"\""
      ]
     },
     "execution_count": 8,
     "metadata": {},
     "output_type": "execute_result"
    }
   ],
   "source": [
    "model_ar_1_i_1_ma_1 = ARIMA(train.unit_sales, order=(6,1,6))\n",
    "results_ar_1_i_1_ma_1 = model_ar_1_i_1_ma_1.fit()\n",
    "results_ar_1_i_1_ma_1.summary()"
   ]
  },
  {
   "cell_type": "markdown",
   "metadata": {},
   "source": [
    "### Prediction"
   ]
  },
  {
   "cell_type": "code",
   "execution_count": 9,
   "metadata": {},
   "outputs": [],
   "source": [
    "prediction =results_ar_1_i_1_ma_1.forecast(steps=15)"
   ]
  },
  {
   "cell_type": "code",
   "execution_count": 10,
   "metadata": {},
   "outputs": [],
   "source": [
    "from sklearn.metrics import mean_squared_error"
   ]
  },
  {
   "cell_type": "code",
   "execution_count": 11,
   "metadata": {},
   "outputs": [
    {
     "data": {
      "text/plain": [
       "1591.2737872966848"
      ]
     },
     "execution_count": 11,
     "metadata": {},
     "output_type": "execute_result"
    }
   ],
   "source": [
    "mean_squared_error(prediction.values,test.unit_sales)"
   ]
  },
  {
   "cell_type": "code",
   "execution_count": 12,
   "metadata": {},
   "outputs": [],
   "source": [
    "test[\"prediction\"] = prediction.values"
   ]
  },
  {
   "cell_type": "code",
   "execution_count": 13,
   "metadata": {},
   "outputs": [
    {
     "data": {
      "text/plain": [
       "<AxesSubplot:xlabel='date'>"
      ]
     },
     "execution_count": 13,
     "metadata": {},
     "output_type": "execute_result"
    },
    {
     "data": {
      "image/png": "[encoded data removed]",
      "text/plain": [
       "<Figure size 432x288 with 1 Axes>"
      ]
     },
     "metadata": {
      "needs_background": "light"
     },
     "output_type": "display_data"
    }
   ],
   "source": [
    "test.plot()"
   ]
  },
  {
   "cell_type": "markdown",
   "metadata": {},
   "source": [
    "We obtained similar MSE to Random Forest\n",
    "\n",
    "Things TODO for the future:\n",
    "1. Perform more systematic hyperparameter ARIMA selection\n",
    "2. Use other methods e.g. SARIMA\n"
   ]
  },
  {
   "cell_type": "code",
   "execution_count": null,
   "metadata": {},
   "outputs": [],
   "source": []
  }
 ],
 "metadata": {
  "kernelspec": {
   "display_name": "Python 3",
   "language": "python",
   "name": "python3"
  },
  "language_info": {
   "codemirror_mode": {
    "name": "ipython",
    "version": 3
   },
   "file_extension": ".py",
   "mimetype": "text/x-python",
   "name": "python",
   "nbconvert_exporter": "python",
   "pygments_lexer": "ipython3",
   "version": "3.8.5"
  }
 },
 "nbformat": 4,
 "nbformat_minor": 4
}
